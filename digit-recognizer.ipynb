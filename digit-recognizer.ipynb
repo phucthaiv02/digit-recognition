{
 "cells": [
  {
   "cell_type": "markdown",
   "metadata": {},
   "source": [
    "# DIGIT RECOGNIZER"
   ]
  },
  {
   "cell_type": "markdown",
   "metadata": {},
   "source": [
    "## 1. Import libraries"
   ]
  },
  {
   "cell_type": "code",
   "execution_count": 1,
   "metadata": {
    "execution": {
     "iopub.execute_input": "2022-11-29T16:47:44.665158Z",
     "iopub.status.busy": "2022-11-29T16:47:44.664786Z",
     "iopub.status.idle": "2022-11-29T16:47:44.670181Z",
     "shell.execute_reply": "2022-11-29T16:47:44.668946Z",
     "shell.execute_reply.started": "2022-11-29T16:47:44.665124Z"
    }
   },
   "outputs": [],
   "source": [
    "import numpy as np\n",
    "import pandas as pd\n",
    "import matplotlib.pyplot as plt"
   ]
  },
  {
   "cell_type": "code",
   "execution_count": 2,
   "metadata": {},
   "outputs": [],
   "source": [
    "from keras.utils.np_utils import to_categorical\n",
    "from sklearn.model_selection import train_test_split\n",
    "from keras.preprocessing.image import ImageDataGenerator"
   ]
  },
  {
   "cell_type": "code",
   "execution_count": 3,
   "metadata": {
    "execution": {
     "iopub.execute_input": "2022-11-29T16:16:42.636551Z",
     "iopub.status.busy": "2022-11-29T16:16:42.636161Z",
     "iopub.status.idle": "2022-11-29T16:16:42.644804Z",
     "shell.execute_reply": "2022-11-29T16:16:42.643882Z",
     "shell.execute_reply.started": "2022-11-29T16:16:42.636508Z"
    }
   },
   "outputs": [],
   "source": [
    "from tensorflow.keras.models import Sequential\n",
    "from tensorflow.keras.layers import Conv2D, BatchNormalization, Activation, MaxPooling2D, Flatten, Dense, Dropout\n",
    "from tensorflow.keras.callbacks import ReduceLROnPlateau, EarlyStopping, ModelCheckpoint"
   ]
  },
  {
   "cell_type": "markdown",
   "metadata": {},
   "source": [
    "## 2. Data preprocessing"
   ]
  },
  {
   "cell_type": "code",
   "execution_count": 4,
   "metadata": {},
   "outputs": [],
   "source": [
    "base_path = \"./data\"  ## personal use\n",
    "# base_path = \"/kaggle/input/digit-recognizer\"  ## for kaggle\n"
   ]
  },
  {
   "cell_type": "code",
   "execution_count": 5,
   "metadata": {
    "execution": {
     "iopub.execute_input": "2022-11-29T16:16:38.835982Z",
     "iopub.status.busy": "2022-11-29T16:16:38.835377Z",
     "iopub.status.idle": "2022-11-29T16:16:38.845246Z",
     "shell.execute_reply": "2022-11-29T16:16:38.844195Z",
     "shell.execute_reply.started": "2022-11-29T16:16:38.835943Z"
    }
   },
   "outputs": [],
   "source": [
    "test_path = f\"{base_path}/test.csv\"\n",
    "train_path = f\"{base_path}/train.csv\""
   ]
  },
  {
   "cell_type": "code",
   "execution_count": 6,
   "metadata": {
    "execution": {
     "iopub.execute_input": "2022-11-29T16:16:38.848854Z",
     "iopub.status.busy": "2022-11-29T16:16:38.848385Z",
     "iopub.status.idle": "2022-11-29T16:16:42.313595Z",
     "shell.execute_reply": "2022-11-29T16:16:42.312298Z",
     "shell.execute_reply.started": "2022-11-29T16:16:38.848814Z"
    }
   },
   "outputs": [],
   "source": [
    "# Loading dataset\n",
    "test = pd.read_csv(test_path)\n",
    "train = pd.read_csv(train_path)"
   ]
  },
  {
   "cell_type": "code",
   "execution_count": 7,
   "metadata": {},
   "outputs": [
    {
     "name": "stdout",
     "output_type": "stream",
     "text": [
      "Training shape (42000, 28, 28, 1)\n",
      "Testing shape (28000, 28, 28, 1)\n"
     ]
    }
   ],
   "source": [
    "X_train = train.iloc[:,1:].values.astype('float32') \n",
    "Y_train = train.iloc[:,0].values.astype('int32')\n",
    "X_test = test.values.astype('float32')\n",
    "\n",
    "# Reshape\n",
    "X_train = X_train.reshape(-1, 28, 28, 1)\n",
    "X_test = X_test.reshape(-1, 28, 28, 1)\n",
    "\n",
    "# Normalize\n",
    "X_train /= 255\n",
    "X_test /= 255\n",
    "\n",
    "print(\"Training shape\", X_train.shape)\n",
    "print(\"Testing shape\", X_test.shape)"
   ]
  },
  {
   "cell_type": "code",
   "execution_count": 8,
   "metadata": {},
   "outputs": [],
   "source": [
    "# Label encoding\n",
    "Y_train = to_categorical(Y_train, 10)"
   ]
  },
  {
   "cell_type": "code",
   "execution_count": 9,
   "metadata": {
    "execution": {
     "iopub.execute_input": "2022-11-29T16:48:10.862477Z",
     "iopub.status.busy": "2022-11-29T16:48:10.862117Z",
     "iopub.status.idle": "2022-11-29T16:48:11.066935Z",
     "shell.execute_reply": "2022-11-29T16:48:11.065893Z",
     "shell.execute_reply.started": "2022-11-29T16:48:10.862444Z"
    }
   },
   "outputs": [
    {
     "name": "stdout",
     "output_type": "stream",
     "text": [
      "label:  [0. 1. 0. 0. 0. 0. 0. 0. 0. 0.]\n"
     ]
    },
    {
     "data": {
      "image/png": "[encoded data removed]",
      "text/plain": [
       "<Figure size 432x288 with 1 Axes>"
      ]
     },
     "metadata": {
      "needs_background": "light"
     },
     "output_type": "display_data"
    }
   ],
   "source": [
    "plt.imshow(X_train[0], cmap='gray')\n",
    "print(\"label: \", Y_train[0])"
   ]
  },
  {
   "cell_type": "code",
   "execution_count": 10,
   "metadata": {
    "execution": {
     "iopub.execute_input": "2022-11-29T16:16:42.326819Z",
     "iopub.status.busy": "2022-11-29T16:16:42.326460Z",
     "iopub.status.idle": "2022-11-29T16:16:42.634741Z",
     "shell.execute_reply": "2022-11-29T16:16:42.633689Z",
     "shell.execute_reply.started": "2022-11-29T16:16:42.326776Z"
    }
   },
   "outputs": [],
   "source": [
    "# Train-test split\n",
    "X_train, X_val, Y_train, Y_val = train_test_split(X_train, Y_train, \n",
    "                                                  test_size=0.2, random_state=42)"
   ]
  },
  {
   "cell_type": "markdown",
   "metadata": {},
   "source": [
    "## 3. Creating model"
   ]
  },
  {
   "cell_type": "code",
   "execution_count": 11,
   "metadata": {
    "execution": {
     "iopub.execute_input": "2022-11-29T16:16:42.646344Z",
     "iopub.status.busy": "2022-11-29T16:16:42.646020Z",
     "iopub.status.idle": "2022-11-29T16:16:42.776250Z",
     "shell.execute_reply": "2022-11-29T16:16:42.775392Z",
     "shell.execute_reply.started": "2022-11-29T16:16:42.646312Z"
    }
   },
   "outputs": [],
   "source": [
    "model = Sequential()                                 # Linear stacking of layers\n",
    "\n",
    "# Convolution Layer 1\n",
    "model.add(Conv2D(32, (3, 3), input_shape=(28,28,1))) \n",
    "model.add(BatchNormalization(axis=-1))               \n",
    "model.add(Activation('relu'))\n",
    "\n",
    "# Convolution Layer 2\n",
    "model.add(Conv2D(32, (3, 3)))                        \n",
    "model.add(BatchNormalization(axis=-1))               \n",
    "model.add(Activation('relu'))                        \n",
    "model.add(MaxPooling2D(pool_size=(2,2)))\n",
    "\n",
    "# Convolution Layer 3\n",
    "model.add(Conv2D(64, (3, 3)))                        \n",
    "model.add(BatchNormalization(axis=-1))               \n",
    "model.add(Activation('relu'))\n",
    "\n",
    "# Convolution Layer 4\n",
    "model.add(Conv2D(64, (3, 3)))                        \n",
    "model.add(BatchNormalization(axis=-1))               \n",
    "model.add(Activation('relu'))                              \n",
    "model.add(MaxPooling2D(pool_size=(2,2)))\n",
    "model.add(Flatten())                                \n",
    "\n",
    "# Fully Connected Layer 5\n",
    "model.add(Dense(512))                                \n",
    "model.add(BatchNormalization())                     \n",
    "model.add(Activation('relu'))                       \n",
    "\n",
    "# Fully Connected Layer 6                       \n",
    "model.add(Dropout(0.2))                            \n",
    "model.add(Dense(10))\n",
    "model.add(Activation('softmax'))   "
   ]
  },
  {
   "cell_type": "code",
   "execution_count": 12,
   "metadata": {
    "execution": {
     "iopub.execute_input": "2022-11-29T16:16:42.778198Z",
     "iopub.status.busy": "2022-11-29T16:16:42.777844Z",
     "iopub.status.idle": "2022-11-29T16:16:42.786647Z",
     "shell.execute_reply": "2022-11-29T16:16:42.784475Z",
     "shell.execute_reply.started": "2022-11-29T16:16:42.778161Z"
    }
   },
   "outputs": [
    {
     "name": "stdout",
     "output_type": "stream",
     "text": [
      "Model: \"sequential\"\n",
      "_________________________________________________________________\n",
      " Layer (type)                Output Shape              Param #   \n",
      "=================================================================\n",
      " conv2d (Conv2D)             (None, 26, 26, 32)        320       \n",
      "                                                                 \n",
      " batch_normalization (BatchN  (None, 26, 26, 32)       128       \n",
      " ormalization)                                                   \n",
      "                                                                 \n",
      " activation (Activation)     (None, 26, 26, 32)        0         \n",
      "                                                                 \n",
      " conv2d_1 (Conv2D)           (None, 24, 24, 32)        9248      \n",
      "                                                                 \n",
      " batch_normalization_1 (Batc  (None, 24, 24, 32)       128       \n",
      " hNormalization)                                                 \n",
      "                                                                 \n",
      " activation_1 (Activation)   (None, 24, 24, 32)        0         \n",
      "                                                                 \n",
      " max_pooling2d (MaxPooling2D  (None, 12, 12, 32)       0         \n",
      " )                                                               \n",
      "                                                                 \n",
      " conv2d_2 (Conv2D)           (None, 10, 10, 64)        18496     \n",
      "                                                                 \n",
      " batch_normalization_2 (Batc  (None, 10, 10, 64)       256       \n",
      " hNormalization)                                                 \n",
      "                                                                 \n",
      " activation_2 (Activation)   (None, 10, 10, 64)        0         \n",
      "                                                                 \n",
      " conv2d_3 (Conv2D)           (None, 8, 8, 64)          36928     \n",
      "                                                                 \n",
      " batch_normalization_3 (Batc  (None, 8, 8, 64)         256       \n",
      " hNormalization)                                                 \n",
      "                                                                 \n",
      " activation_3 (Activation)   (None, 8, 8, 64)          0         \n",
      "                                                                 \n",
      " max_pooling2d_1 (MaxPooling  (None, 4, 4, 64)         0         \n",
      " 2D)                                                             \n",
      "                                                                 \n",
      " flatten (Flatten)           (None, 1024)              0         \n",
      "                                                                 \n",
      " dense (Dense)               (None, 512)               524800    \n",
      "                                                                 \n",
      " batch_normalization_4 (Batc  (None, 512)              2048      \n",
      " hNormalization)                                                 \n",
      "                                                                 \n",
      " activation_4 (Activation)   (None, 512)               0         \n",
      "                                                                 \n",
      " dropout (Dropout)           (None, 512)               0         \n",
      "                                                                 \n",
      " dense_1 (Dense)             (None, 10)                5130      \n",
      "                                                                 \n",
      " activation_5 (Activation)   (None, 10)                0         \n",
      "                                                                 \n",
      "=================================================================\n",
      "Total params: 597,738\n",
      "Trainable params: 596,330\n",
      "Non-trainable params: 1,408\n",
      "_________________________________________________________________\n"
     ]
    }
   ],
   "source": [
    "model.summary()"
   ]
  },
  {
   "cell_type": "markdown",
   "metadata": {},
   "source": [
    "## 4. Training model"
   ]
  },
  {
   "cell_type": "code",
   "execution_count": 13,
   "metadata": {
    "execution": {
     "iopub.execute_input": "2022-11-29T16:16:42.317177Z",
     "iopub.status.busy": "2022-11-29T16:16:42.316727Z",
     "iopub.status.idle": "2022-11-29T16:16:42.324563Z",
     "shell.execute_reply": "2022-11-29T16:16:42.323368Z",
     "shell.execute_reply.started": "2022-11-29T16:16:42.317131Z"
    }
   },
   "outputs": [],
   "source": [
    "# Batch size, Epochs\n",
    "batch_size = 64\n",
    "epochs = 100"
   ]
  },
  {
   "cell_type": "code",
   "execution_count": 14,
   "metadata": {
    "execution": {
     "iopub.execute_input": "2022-11-29T16:16:42.788951Z",
     "iopub.status.busy": "2022-11-29T16:16:42.788027Z",
     "iopub.status.idle": "2022-11-29T16:16:42.801310Z",
     "shell.execute_reply": "2022-11-29T16:16:42.800342Z",
     "shell.execute_reply.started": "2022-11-29T16:16:42.788916Z"
    }
   },
   "outputs": [],
   "source": [
    "# Compile model\n",
    "model.compile(loss='categorical_crossentropy', optimizer='adam', metrics=['accuracy'])"
   ]
  },
  {
   "cell_type": "code",
   "execution_count": 15,
   "metadata": {},
   "outputs": [],
   "source": [
    "## Defining callbacks\n",
    "\n",
    "# Reduce LearningRate gradually to converge\n",
    "learning_rate_reduction = ReduceLROnPlateau(\n",
    "    monitor = 'val_accuracy',\n",
    "    patience = 3,\n",
    "    factor = 0.5,\n",
    "    min_lr = 0.00001\n",
    ")\n",
    "\n",
    "# Stop if Loss was not improved\n",
    "early_stopping = EarlyStopping(\n",
    "    monitor = \"val_loss\",\n",
    "    restore_best_weights = True,\n",
    "    patience = 1\n",
    ")\n",
    "\n",
    "# Save best weights if Loss didn't improve\n",
    "model_checkpoint = ModelCheckpoint(\n",
    "    './tmp/checkpoint',\n",
    "    monitor = \"val_loss\",\n",
    "    save_best_only = True,\n",
    "    save_weights_only = False,\n",
    "    mode = \"auto\",\n",
    ")"
   ]
  },
  {
   "cell_type": "code",
   "execution_count": 16,
   "metadata": {
    "execution": {
     "iopub.execute_input": "2022-11-29T16:16:42.813376Z",
     "iopub.status.busy": "2022-11-29T16:16:42.812873Z",
     "iopub.status.idle": "2022-11-29T16:16:42.823737Z",
     "shell.execute_reply": "2022-11-29T16:16:42.822758Z",
     "shell.execute_reply.started": "2022-11-29T16:16:42.813339Z"
    }
   },
   "outputs": [],
   "source": [
    "# Data augumentation\n",
    "gen = ImageDataGenerator(rotation_range=10, width_shift_range=0.1, shear_range=0.3,\n",
    "                         height_shift_range=0.1, zoom_range=0.1)\n",
    "train_generator = gen.flow(X_train, Y_train, batch_size=batch_size)"
   ]
  },
  {
   "cell_type": "code",
   "execution_count": 17,
   "metadata": {
    "execution": {
     "iopub.execute_input": "2022-11-29T16:16:42.838363Z",
     "iopub.status.busy": "2022-11-29T16:16:42.837836Z",
     "iopub.status.idle": "2022-11-29T16:36:20.935031Z",
     "shell.execute_reply": "2022-11-29T16:36:20.933989Z",
     "shell.execute_reply.started": "2022-11-29T16:16:42.838315Z"
    }
   },
   "outputs": [
    {
     "name": "stdout",
     "output_type": "stream",
     "text": [
      "Epoch 1/100\n",
      "525/525 [==============================] - ETA: 0s - loss: 0.1886 - accuracy: 0.9411"
     ]
    },
    {
     "name": "stderr",
     "output_type": "stream",
     "text": [
      "WARNING:absl:Found untraced functions such as _jit_compiled_convolution_op, _jit_compiled_convolution_op, _jit_compiled_convolution_op, _jit_compiled_convolution_op while saving (showing 4 of 4). These functions will not be directly callable after loading.\n"
     ]
    },
    {
     "name": "stdout",
     "output_type": "stream",
     "text": [
      "INFO:tensorflow:Assets written to: ./tmp\\checkpoint\\assets\n"
     ]
    },
    {
     "name": "stderr",
     "output_type": "stream",
     "text": [
      "INFO:tensorflow:Assets written to: ./tmp\\checkpoint\\assets\n"
     ]
    },
    {
     "name": "stdout",
     "output_type": "stream",
     "text": [
      "525/525 [==============================] - 59s 110ms/step - loss: 0.1886 - accuracy: 0.9411 - val_loss: 0.1291 - val_accuracy: 0.9602 - lr: 0.0010\n",
      "Epoch 2/100\n",
      "525/525 [==============================] - ETA: 0s - loss: 0.0750 - accuracy: 0.9765"
     ]
    },
    {
     "name": "stderr",
     "output_type": "stream",
     "text": [
      "WARNING:absl:Found untraced functions such as _jit_compiled_convolution_op, _jit_compiled_convolution_op, _jit_compiled_convolution_op, _jit_compiled_convolution_op while saving (showing 4 of 4). These functions will not be directly callable after loading.\n"
     ]
    },
    {
     "name": "stdout",
     "output_type": "stream",
     "text": [
      "INFO:tensorflow:Assets written to: ./tmp\\checkpoint\\assets\n"
     ]
    },
    {
     "name": "stderr",
     "output_type": "stream",
     "text": [
      "INFO:tensorflow:Assets written to: ./tmp\\checkpoint\\assets\n"
     ]
    },
    {
     "name": "stdout",
     "output_type": "stream",
     "text": [
      "525/525 [==============================] - 59s 112ms/step - loss: 0.0750 - accuracy: 0.9765 - val_loss: 0.0488 - val_accuracy: 0.9839 - lr: 0.0010\n",
      "Epoch 3/100\n",
      "525/525 [==============================] - ETA: 0s - loss: 0.0590 - accuracy: 0.9820"
     ]
    },
    {
     "name": "stderr",
     "output_type": "stream",
     "text": [
      "WARNING:absl:Found untraced functions such as _jit_compiled_convolution_op, _jit_compiled_convolution_op, _jit_compiled_convolution_op, _jit_compiled_convolution_op while saving (showing 4 of 4). These functions will not be directly callable after loading.\n"
     ]
    },
    {
     "name": "stdout",
     "output_type": "stream",
     "text": [
      "INFO:tensorflow:Assets written to: ./tmp\\checkpoint\\assets\n"
     ]
    },
    {
     "name": "stderr",
     "output_type": "stream",
     "text": [
      "INFO:tensorflow:Assets written to: ./tmp\\checkpoint\\assets\n"
     ]
    },
    {
     "name": "stdout",
     "output_type": "stream",
     "text": [
      "525/525 [==============================] - 59s 113ms/step - loss: 0.0590 - accuracy: 0.9820 - val_loss: 0.0458 - val_accuracy: 0.9846 - lr: 0.0010\n",
      "Epoch 4/100\n",
      "525/525 [==============================] - 59s 112ms/step - loss: 0.0538 - accuracy: 0.9837 - val_loss: 0.0478 - val_accuracy: 0.9839 - lr: 0.0010\n",
      "Wall time: 3min 55s\n"
     ]
    }
   ],
   "source": [
    "%%time\n",
    "# Training\n",
    "history = model.fit(train_generator, epochs = epochs, batch_size=batch_size, validation_data = (X_val,Y_val),\n",
    "                   callbacks=[learning_rate_reduction, model_checkpoint, early_stopping])"
   ]
  },
  {
   "cell_type": "code",
   "execution_count": 18,
   "metadata": {},
   "outputs": [
    {
     "data": {
      "image/png": "[encoded data removed]",
      "text/plain": [
       "<Figure size 720x360 with 2 Axes>"
      ]
     },
     "metadata": {
      "needs_background": "light"
     },
     "output_type": "display_data"
    }
   ],
   "source": [
    "fig, ax = plt.subplots(2,1, figsize = (10, 5))\n",
    "for i, metric in enumerate(['loss', 'accuracy']):\n",
    "    ax[i].plot(history.history[metric], label = f\"Training {metric}\")\n",
    "    ax[i].plot(history.history[f'val_{metric}'], label = f\"Validation {metric}\", axes = ax[i])\n",
    "    ax[i].legend()"
   ]
  },
  {
   "cell_type": "markdown",
   "metadata": {},
   "source": [
    "## 5. Prediction"
   ]
  },
  {
   "cell_type": "code",
   "execution_count": 19,
   "metadata": {
    "execution": {
     "iopub.execute_input": "2022-11-29T16:36:20.938437Z",
     "iopub.status.busy": "2022-11-29T16:36:20.938135Z",
     "iopub.status.idle": "2022-11-29T16:36:22.717836Z",
     "shell.execute_reply": "2022-11-29T16:36:22.716933Z",
     "shell.execute_reply.started": "2022-11-29T16:36:20.938409Z"
    }
   },
   "outputs": [
    {
     "name": "stdout",
     "output_type": "stream",
     "text": [
      "875/875 [==============================] - 9s 11ms/step\n",
      "Wall time: 9.82 s\n"
     ]
    },
    {
     "data": {
      "text/plain": [
       "array([2, 0, 9, 0, 3], dtype=int64)"
      ]
     },
     "execution_count": 19,
     "metadata": {},
     "output_type": "execute_result"
    }
   ],
   "source": [
    "%%time\n",
    "Y_pred = model.predict(X_test)\n",
    "Y_pred_classes = np.argmax(Y_pred, axis = 1)\n",
    "Y_pred_classes[:5]"
   ]
  },
  {
   "cell_type": "code",
   "execution_count": 20,
   "metadata": {
    "execution": {
     "iopub.execute_input": "2022-11-29T16:36:22.719516Z",
     "iopub.status.busy": "2022-11-29T16:36:22.719158Z",
     "iopub.status.idle": "2022-11-29T16:36:22.758823Z",
     "shell.execute_reply": "2022-11-29T16:36:22.757953Z",
     "shell.execute_reply.started": "2022-11-29T16:36:22.719479Z"
    }
   },
   "outputs": [],
   "source": [
    "submission = pd.DataFrame({\"ImageID\": list(range(1,len(Y_pred_classes) + 1)),\n",
    "                          \"Label\": Y_pred_classes})\n",
    "submission.to_csv(\"submission.csv\", index=False, header=True)"
   ]
  },
  {
   "cell_type": "markdown",
   "metadata": {},
   "source": [
    "## 6. Save model"
   ]
  },
  {
   "cell_type": "code",
   "execution_count": 21,
   "metadata": {
    "execution": {
     "iopub.execute_input": "2022-11-29T17:01:54.251919Z",
     "iopub.status.busy": "2022-11-29T17:01:54.251511Z",
     "iopub.status.idle": "2022-11-29T17:01:54.333795Z",
     "shell.execute_reply": "2022-11-29T17:01:54.332772Z",
     "shell.execute_reply.started": "2022-11-29T17:01:54.251886Z"
    }
   },
   "outputs": [],
   "source": [
    "model.save('digit_recog.h5')"
   ]
  }
 ],
 "metadata": {
  "kernelspec": {
   "display_name": "Python 3",
   "language": "python",
   "name": "python3"
  },
  "language_info": {
   "codemirror_mode": {
    "name": "ipython",
    "version": 3
   },
   "file_extension": ".py",
   "mimetype": "text/x-python",
   "name": "python",
   "nbconvert_exporter": "python",
   "pygments_lexer": "ipython3",
   "version": "3.8.8"
  }
 },
 "nbformat": 4,
 "nbformat_minor": 4
}
